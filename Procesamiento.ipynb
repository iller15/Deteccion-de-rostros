{
 "cells": [
  {
   "cell_type": "code",
   "execution_count": 1,
   "metadata": {},
   "outputs": [
    {
     "name": "stdout",
     "output_type": "stream",
     "text": [
      "pygame 1.9.6\n",
      "Hello from the pygame community. https://www.pygame.org/contribute.html\n"
     ]
    }
   ],
   "source": [
    "from __future__ import print_function\n",
    "from ipywidgets import interact, interactive, fixed, interact_manual\n",
    "import ipywidgets as widgets\n",
    "import cv2\n",
    "import numpy as np\n",
    "import pandas as pd\n",
    "from PIL import Image\n",
    "from skimage import io\n",
    "import matplotlib.pylab as plt\n",
    "from imutils.video import VideoStream\n",
    "import sys\n",
    "import pygame\n",
    "from pygame import mixer\n"
   ]
  },
  {
   "cell_type": "code",
   "execution_count": 4,
   "metadata": {},
   "outputs": [
    {
     "data": {
      "application/vnd.jupyter.widget-view+json": {
       "model_id": "8344baa0fe5543abbb0ec0921d383cd9",
       "version_major": 2,
       "version_minor": 0
      },
      "text/plain": [
       "interactive(children=(FloatSlider(value=2.0, description='scale', max=4.0), Output()), _dom_classes=('widget-i…"
      ]
     },
     "metadata": {},
     "output_type": "display_data"
    }
   ],
   "source": [
    "pygame.mixer.init()\n",
    "pygame.mixer.music.load('2.wav')\n",
    "mixer.music.set_volume(0)\n",
    "mixer.music.play(-1)\n",
    "\n",
    "def vine(scale):\n",
    "    cascPath = sys.argv[1]\n",
    "    faceCascade = cv2.CascadeClassifier('C:\\Miniconda\\Aqui\\Lib\\site-packages\\cv2\\data\\haarcascade_frontalface_alt.xml')\n",
    "\n",
    "    video_capture = cv2.VideoCapture(0)\n",
    "\n",
    "    while True:\n",
    "        _, frame = video_capture.read()\n",
    "        limitA = video_capture.get(3)\n",
    "        HFrame = video_capture.get(4)\n",
    "\n",
    "        if cv2.waitKey(1) & 0xFF == ord('q'):\n",
    "            break\n",
    "        #Pasandolo a gris y detectando la imagen te devuelve los pixeles donde comienza el box de las caras qeu detecto\n",
    "        gray = cv2.cvtColor(frame, cv2.COLOR_BGR2GRAY)\n",
    "        faces = faceCascade.detectMultiScale(\n",
    "            gray,\n",
    "            scaleFactor= scale,\n",
    "            minNeighbors=5,\n",
    "            minSize=(30, 30)    )\n",
    "\n",
    "        if len(faces) > 0:\n",
    "            for (x,y,ancho,alto) in faces:\n",
    "                cv2.rectangle(frame,(x,y),(x+ancho,y+alto),(135,100,0),3)\n",
    "                if (x > limitA/2):\n",
    "                    mixer.music.set_volume(1)\n",
    "                    cv2.imshow('Procesamiento Digital de Imágenes', gray)\n",
    "                else:\n",
    "                    mixer.music.set_volume(0)\n",
    "                    cv2.imshow('Procesamiento Digital de Imágenes', frame)\n",
    "        else:\n",
    "            cv2.imshow('Procesamiento Digital de Imágenes', frame)\n",
    "\n",
    "    \n",
    "    video_capture.release()\n",
    "    cv2.destroyAllWindows()\n",
    "\n",
    "interact(vine, scale=(0.0,4.0));"
   ]
  },
  {
   "cell_type": "code",
   "execution_count": 40,
   "metadata": {},
   "outputs": [
    {
     "data": {
      "application/vnd.jupyter.widget-view+json": {
       "model_id": "8c63b49797704587b7c7a06a2084e80f",
       "version_major": 2,
       "version_minor": 0
      },
      "text/plain": [
       "interactive(children=(FloatSlider(value=2.0, description='x', max=4.0), Output()), _dom_classes=('widget-inter…"
      ]
     },
     "metadata": {},
     "output_type": "display_data"
    }
   ],
   "source": [
    "from __future__ import print_function\n",
    "from ipywidgets import interact, interactive, fixed, interact_manual\n",
    "import ipywidgets as widgets\n",
    "def f(x):\n",
    "    return x;\n",
    "interact(f, x=(0.0,4.0));"
   ]
  }
 ],
 "metadata": {
  "kernelspec": {
   "display_name": "Python 3",
   "language": "python",
   "name": "python3"
  },
  "language_info": {
   "codemirror_mode": {
    "name": "ipython",
    "version": 3
   },
   "file_extension": ".py",
   "mimetype": "text/x-python",
   "name": "python",
   "nbconvert_exporter": "python",
   "pygments_lexer": "ipython3",
   "version": "3.7.3"
  }
 },
 "nbformat": 4,
 "nbformat_minor": 4
}
